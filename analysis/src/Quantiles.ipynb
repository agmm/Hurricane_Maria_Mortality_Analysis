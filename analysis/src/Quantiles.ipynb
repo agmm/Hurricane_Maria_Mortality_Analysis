{
 "cells": [
  {
   "cell_type": "code",
   "execution_count": 1,
   "metadata": {},
   "outputs": [],
   "source": [
    "import pandas as pd\n",
    "import numpy as np\n",
    "import os"
   ]
  },
  {
   "cell_type": "code",
   "execution_count": 2,
   "metadata": {
    "collapsed": true
   },
   "outputs": [
    {
     "ename": "FileNotFoundError",
     "evalue": "File b'../data/census.csv' does not exist",
     "output_type": "error",
     "traceback": [
      "\u001b[0;31m---------------------------------------------------------------------------\u001b[0m",
      "\u001b[0;31mFileNotFoundError\u001b[0m                         Traceback (most recent call last)",
      "\u001b[0;32m<ipython-input-2-dbd0d12c34cd>\u001b[0m in \u001b[0;36m<module>\u001b[0;34m()\u001b[0m\n\u001b[0;32m----> 1\u001b[0;31m \u001b[0mcensus_data\u001b[0m \u001b[0;34m=\u001b[0m \u001b[0mpd\u001b[0m\u001b[0;34m.\u001b[0m\u001b[0mread_csv\u001b[0m\u001b[0;34m(\u001b[0m\u001b[0;34m\"../data/census.csv\"\u001b[0m\u001b[0;34m)\u001b[0m\u001b[0;34m\u001b[0m\u001b[0m\n\u001b[0m\u001b[1;32m      2\u001b[0m \u001b[0mcensus_data\u001b[0m \u001b[0;34m=\u001b[0m \u001b[0mcensus_data\u001b[0m\u001b[0;34m.\u001b[0m\u001b[0mdrop\u001b[0m\u001b[0;34m(\u001b[0m\u001b[0;34m[\u001b[0m\u001b[0;34m'Unnamed: 0'\u001b[0m\u001b[0;34m]\u001b[0m\u001b[0;34m,\u001b[0m \u001b[0maxis\u001b[0m \u001b[0;34m=\u001b[0m \u001b[0;36m1\u001b[0m\u001b[0;34m)\u001b[0m\u001b[0;34m\u001b[0m\u001b[0m\n\u001b[1;32m      3\u001b[0m \u001b[0;34m\u001b[0m\u001b[0m\n\u001b[1;32m      4\u001b[0m \u001b[0mmortality_data\u001b[0m \u001b[0;34m=\u001b[0m \u001b[0mpd\u001b[0m\u001b[0;34m.\u001b[0m\u001b[0mread_csv\u001b[0m\u001b[0;34m(\u001b[0m\u001b[0;34m\"../data/mortality_grouped.csv\"\u001b[0m\u001b[0;34m)\u001b[0m\u001b[0;34m\u001b[0m\u001b[0m\n\u001b[1;32m      5\u001b[0m \u001b[0mmortality_data\u001b[0m \u001b[0;34m=\u001b[0m \u001b[0mmortality_data\u001b[0m\u001b[0;34m.\u001b[0m\u001b[0mdrop\u001b[0m\u001b[0;34m(\u001b[0m\u001b[0;34m[\u001b[0m\u001b[0;34m'Unnamed: 0'\u001b[0m\u001b[0;34m]\u001b[0m\u001b[0;34m,\u001b[0m \u001b[0maxis\u001b[0m \u001b[0;34m=\u001b[0m \u001b[0;36m1\u001b[0m\u001b[0;34m)\u001b[0m\u001b[0;34m\u001b[0m\u001b[0m\n",
      "\u001b[0;32m~/anaconda3/lib/python3.6/site-packages/pandas/io/parsers.py\u001b[0m in \u001b[0;36mparser_f\u001b[0;34m(filepath_or_buffer, sep, delimiter, header, names, index_col, usecols, squeeze, prefix, mangle_dupe_cols, dtype, engine, converters, true_values, false_values, skipinitialspace, skiprows, nrows, na_values, keep_default_na, na_filter, verbose, skip_blank_lines, parse_dates, infer_datetime_format, keep_date_col, date_parser, dayfirst, iterator, chunksize, compression, thousands, decimal, lineterminator, quotechar, quoting, escapechar, comment, encoding, dialect, tupleize_cols, error_bad_lines, warn_bad_lines, skipfooter, doublequote, delim_whitespace, low_memory, memory_map, float_precision)\u001b[0m\n\u001b[1;32m    676\u001b[0m                     skip_blank_lines=skip_blank_lines)\n\u001b[1;32m    677\u001b[0m \u001b[0;34m\u001b[0m\u001b[0m\n\u001b[0;32m--> 678\u001b[0;31m         \u001b[0;32mreturn\u001b[0m \u001b[0m_read\u001b[0m\u001b[0;34m(\u001b[0m\u001b[0mfilepath_or_buffer\u001b[0m\u001b[0;34m,\u001b[0m \u001b[0mkwds\u001b[0m\u001b[0;34m)\u001b[0m\u001b[0;34m\u001b[0m\u001b[0m\n\u001b[0m\u001b[1;32m    679\u001b[0m \u001b[0;34m\u001b[0m\u001b[0m\n\u001b[1;32m    680\u001b[0m     \u001b[0mparser_f\u001b[0m\u001b[0;34m.\u001b[0m\u001b[0m__name__\u001b[0m \u001b[0;34m=\u001b[0m \u001b[0mname\u001b[0m\u001b[0;34m\u001b[0m\u001b[0m\n",
      "\u001b[0;32m~/anaconda3/lib/python3.6/site-packages/pandas/io/parsers.py\u001b[0m in \u001b[0;36m_read\u001b[0;34m(filepath_or_buffer, kwds)\u001b[0m\n\u001b[1;32m    438\u001b[0m \u001b[0;34m\u001b[0m\u001b[0m\n\u001b[1;32m    439\u001b[0m     \u001b[0;31m# Create the parser.\u001b[0m\u001b[0;34m\u001b[0m\u001b[0;34m\u001b[0m\u001b[0m\n\u001b[0;32m--> 440\u001b[0;31m     \u001b[0mparser\u001b[0m \u001b[0;34m=\u001b[0m \u001b[0mTextFileReader\u001b[0m\u001b[0;34m(\u001b[0m\u001b[0mfilepath_or_buffer\u001b[0m\u001b[0;34m,\u001b[0m \u001b[0;34m**\u001b[0m\u001b[0mkwds\u001b[0m\u001b[0;34m)\u001b[0m\u001b[0;34m\u001b[0m\u001b[0m\n\u001b[0m\u001b[1;32m    441\u001b[0m \u001b[0;34m\u001b[0m\u001b[0m\n\u001b[1;32m    442\u001b[0m     \u001b[0;32mif\u001b[0m \u001b[0mchunksize\u001b[0m \u001b[0;32mor\u001b[0m \u001b[0miterator\u001b[0m\u001b[0;34m:\u001b[0m\u001b[0;34m\u001b[0m\u001b[0m\n",
      "\u001b[0;32m~/anaconda3/lib/python3.6/site-packages/pandas/io/parsers.py\u001b[0m in \u001b[0;36m__init__\u001b[0;34m(self, f, engine, **kwds)\u001b[0m\n\u001b[1;32m    785\u001b[0m             \u001b[0mself\u001b[0m\u001b[0;34m.\u001b[0m\u001b[0moptions\u001b[0m\u001b[0;34m[\u001b[0m\u001b[0;34m'has_index_names'\u001b[0m\u001b[0;34m]\u001b[0m \u001b[0;34m=\u001b[0m \u001b[0mkwds\u001b[0m\u001b[0;34m[\u001b[0m\u001b[0;34m'has_index_names'\u001b[0m\u001b[0;34m]\u001b[0m\u001b[0;34m\u001b[0m\u001b[0m\n\u001b[1;32m    786\u001b[0m \u001b[0;34m\u001b[0m\u001b[0m\n\u001b[0;32m--> 787\u001b[0;31m         \u001b[0mself\u001b[0m\u001b[0;34m.\u001b[0m\u001b[0m_make_engine\u001b[0m\u001b[0;34m(\u001b[0m\u001b[0mself\u001b[0m\u001b[0;34m.\u001b[0m\u001b[0mengine\u001b[0m\u001b[0;34m)\u001b[0m\u001b[0;34m\u001b[0m\u001b[0m\n\u001b[0m\u001b[1;32m    788\u001b[0m \u001b[0;34m\u001b[0m\u001b[0m\n\u001b[1;32m    789\u001b[0m     \u001b[0;32mdef\u001b[0m \u001b[0mclose\u001b[0m\u001b[0;34m(\u001b[0m\u001b[0mself\u001b[0m\u001b[0;34m)\u001b[0m\u001b[0;34m:\u001b[0m\u001b[0;34m\u001b[0m\u001b[0m\n",
      "\u001b[0;32m~/anaconda3/lib/python3.6/site-packages/pandas/io/parsers.py\u001b[0m in \u001b[0;36m_make_engine\u001b[0;34m(self, engine)\u001b[0m\n\u001b[1;32m   1012\u001b[0m     \u001b[0;32mdef\u001b[0m \u001b[0m_make_engine\u001b[0m\u001b[0;34m(\u001b[0m\u001b[0mself\u001b[0m\u001b[0;34m,\u001b[0m \u001b[0mengine\u001b[0m\u001b[0;34m=\u001b[0m\u001b[0;34m'c'\u001b[0m\u001b[0;34m)\u001b[0m\u001b[0;34m:\u001b[0m\u001b[0;34m\u001b[0m\u001b[0m\n\u001b[1;32m   1013\u001b[0m         \u001b[0;32mif\u001b[0m \u001b[0mengine\u001b[0m \u001b[0;34m==\u001b[0m \u001b[0;34m'c'\u001b[0m\u001b[0;34m:\u001b[0m\u001b[0;34m\u001b[0m\u001b[0m\n\u001b[0;32m-> 1014\u001b[0;31m             \u001b[0mself\u001b[0m\u001b[0;34m.\u001b[0m\u001b[0m_engine\u001b[0m \u001b[0;34m=\u001b[0m \u001b[0mCParserWrapper\u001b[0m\u001b[0;34m(\u001b[0m\u001b[0mself\u001b[0m\u001b[0;34m.\u001b[0m\u001b[0mf\u001b[0m\u001b[0;34m,\u001b[0m \u001b[0;34m**\u001b[0m\u001b[0mself\u001b[0m\u001b[0;34m.\u001b[0m\u001b[0moptions\u001b[0m\u001b[0;34m)\u001b[0m\u001b[0;34m\u001b[0m\u001b[0m\n\u001b[0m\u001b[1;32m   1015\u001b[0m         \u001b[0;32melse\u001b[0m\u001b[0;34m:\u001b[0m\u001b[0;34m\u001b[0m\u001b[0m\n\u001b[1;32m   1016\u001b[0m             \u001b[0;32mif\u001b[0m \u001b[0mengine\u001b[0m \u001b[0;34m==\u001b[0m \u001b[0;34m'python'\u001b[0m\u001b[0;34m:\u001b[0m\u001b[0;34m\u001b[0m\u001b[0m\n",
      "\u001b[0;32m~/anaconda3/lib/python3.6/site-packages/pandas/io/parsers.py\u001b[0m in \u001b[0;36m__init__\u001b[0;34m(self, src, **kwds)\u001b[0m\n\u001b[1;32m   1706\u001b[0m         \u001b[0mkwds\u001b[0m\u001b[0;34m[\u001b[0m\u001b[0;34m'usecols'\u001b[0m\u001b[0;34m]\u001b[0m \u001b[0;34m=\u001b[0m \u001b[0mself\u001b[0m\u001b[0;34m.\u001b[0m\u001b[0musecols\u001b[0m\u001b[0;34m\u001b[0m\u001b[0m\n\u001b[1;32m   1707\u001b[0m \u001b[0;34m\u001b[0m\u001b[0m\n\u001b[0;32m-> 1708\u001b[0;31m         \u001b[0mself\u001b[0m\u001b[0;34m.\u001b[0m\u001b[0m_reader\u001b[0m \u001b[0;34m=\u001b[0m \u001b[0mparsers\u001b[0m\u001b[0;34m.\u001b[0m\u001b[0mTextReader\u001b[0m\u001b[0;34m(\u001b[0m\u001b[0msrc\u001b[0m\u001b[0;34m,\u001b[0m \u001b[0;34m**\u001b[0m\u001b[0mkwds\u001b[0m\u001b[0;34m)\u001b[0m\u001b[0;34m\u001b[0m\u001b[0m\n\u001b[0m\u001b[1;32m   1709\u001b[0m \u001b[0;34m\u001b[0m\u001b[0m\n\u001b[1;32m   1710\u001b[0m         \u001b[0mpassed_names\u001b[0m \u001b[0;34m=\u001b[0m \u001b[0mself\u001b[0m\u001b[0;34m.\u001b[0m\u001b[0mnames\u001b[0m \u001b[0;32mis\u001b[0m \u001b[0;32mNone\u001b[0m\u001b[0;34m\u001b[0m\u001b[0m\n",
      "\u001b[0;32mpandas/_libs/parsers.pyx\u001b[0m in \u001b[0;36mpandas._libs.parsers.TextReader.__cinit__\u001b[0;34m()\u001b[0m\n",
      "\u001b[0;32mpandas/_libs/parsers.pyx\u001b[0m in \u001b[0;36mpandas._libs.parsers.TextReader._setup_parser_source\u001b[0;34m()\u001b[0m\n",
      "\u001b[0;31mFileNotFoundError\u001b[0m: File b'../data/census.csv' does not exist"
     ]
    }
   ],
   "source": [
    "census_data = pd.read_csv(\"data/census.csv\")\n",
    "census_data = census_data.drop(['Unnamed: 0'], axis = 1)\n",
    "\n",
    "mortality_data = pd.read_csv(\"data/mortality_grouped.csv\")\n",
    "mortality_data = mortality_data.drop(['Unnamed: 0'], axis = 1)\n",
    "\n",
    "df = mortality_data.merge(census_data, on='ResidencePlace')\n",
    "df['death_rate'] = (df['Deaths']/df['respop72017']) * 1000\n",
    "df.head()"
   ]
  },
  {
   "cell_type": "code",
   "execution_count": null,
   "metadata": {},
   "outputs": [],
   "source": [
    "if 'total' not in os.listdir('data/'):\n",
    "    os.mkdir('data/total/')\n",
    "\n",
    "quantiles = df['death_rate'].quantile([0.20, 0.40, 0.60, 0.80, 1.0]).get_values()\n",
    "\n",
    "## 0% -20%\n",
    "df_20 = df[df['death_rate'] <= quantiles[0]].sort_values(by=['death_rate'], ascending = False)\n",
    "df_20.to_csv('data/total/percentile_20.csv')\n",
    "\n",
    "## 21% - 40%\n",
    "df_40 = df[(df['death_rate'] <= quantiles[1]) & \n",
    "                 (df['death_rate'] > quantiles[0])].sort_values(by=['death_rate'], ascending = False)\n",
    "df_40.to_csv('data/total/percentile_40.csv')\n",
    "\n",
    "## 41% - 60%\n",
    "df_60 = df[(df['death_rate'] <= quantiles[2]) & \n",
    "                 (df['death_rate'] > quantiles[1])].sort_values(by=['death_rate'], ascending = False)\n",
    "df_60.to_csv('data/total/percentile_60.csv')\n",
    "\n",
    "## 61% - 80%\n",
    "df_80 = df[(df['death_rate'] <= quantiles[3]) & \n",
    "                 (df['death_rate'] > quantiles[2])].sort_values(by=['death_rate'], ascending = False)\n",
    "df_80.to_csv('data/total/percentile_80.csv')\n",
    "\n",
    "## 81% - 100%\n",
    "df_100 = df[(df['death_rate'] <= quantiles[4]) & \n",
    "                  (df['death_rate'] > quantiles[3])].sort_values(by=['death_rate'], ascending = False)\n",
    "df_100.to_csv('data/total/percentile_100.csv')"
   ]
  },
  {
   "cell_type": "code",
   "execution_count": null,
   "metadata": {},
   "outputs": [],
   "source": [
    "if 'urban' not in os.listdir('data/'):\n",
    "    os.mkdir('data/urban/')\n",
    "\n",
    "df_urban = df[df['ResidenceZone'] == 'URBANO']\n",
    "quantiles = df_urban['death_rate'].quantile([0.20, 0.40, 0.60, 0.80, 1.0]).get_values()\n",
    "\n",
    "## 0% -20%\n",
    "df_20 = df_urban[df_urban['death_rate'] <= quantiles[0]].sort_values(by=['death_rate'], ascending = False)\n",
    "df_20.to_csv('data/urban/percentile_20.csv')\n",
    "\n",
    "## 21% - 40%\n",
    "df_40 = df_urban[(df_urban['death_rate'] <= quantiles[1]) & \n",
    "                 (df_urban['death_rate'] > quantiles[0])].sort_values(by=['death_rate'], ascending = False)\n",
    "df_40.to_csv('data/urban/percentile_40.csv')\n",
    "\n",
    "## 41% - 60%\n",
    "df_60 = df_urban[(df_urban['death_rate'] <= quantiles[2]) & \n",
    "                 (df_urban['death_rate'] > quantiles[1])].sort_values(by=['death_rate'], ascending = False)\n",
    "df_60.to_csv('data/urban/percentile_60.csv')\n",
    "\n",
    "## 61% - 80%\n",
    "df_80 = df_urban[(df_urban['death_rate'] <= quantiles[3]) & \n",
    "                 (df_urban['death_rate'] > quantiles[2])].sort_values(by=['death_rate'], ascending = False)\n",
    "df_80.to_csv('data/urban/percentile_80.csv')\n",
    "\n",
    "## 81% - 100%\n",
    "df_100 = df_urban[(df_urban['death_rate'] <= quantiles[4]) & \n",
    "                  (df_urban['death_rate'] > quantiles[3])].sort_values(by=['death_rate'], ascending = False)\n",
    "df_100.to_csv('data/urban/percentile_100.csv')"
   ]
  },
  {
   "cell_type": "code",
   "execution_count": null,
   "metadata": {},
   "outputs": [],
   "source": [
    "if 'rural' not in os.listdir('data/'):\n",
    "    os.mkdir('data/rural/')\n",
    "\n",
    "df_rural = df[df['ResidenceZone'] == 'RURAL']\n",
    "quantiles = df_rural['death_rate'].quantile([0.20, 0.40, 0.60, 0.80, 1.0]).get_values()\n",
    "\n",
    "## 0% -20%\n",
    "df_20 = df_rural[df_rural['death_rate'] <= quantiles[0]].sort_values(by=['death_rate'], ascending = False)\n",
    "df_20.to_csv('data/rural/percentile_20.csv')\n",
    "\n",
    "## 21% - 40%\n",
    "df_40 = df_rural[(df_rural['death_rate'] <= quantiles[1]) & \n",
    "                 (df_rural['death_rate'] > quantiles[0])].sort_values(by=['death_rate'], ascending = False)\n",
    "df_40.to_csv('data/rural/percentile_40.csv')\n",
    "\n",
    "## 41% - 60%\n",
    "df_60 = df_rural[(df_rural['death_rate'] <= quantiles[2]) & \n",
    "                 (df_rural['death_rate'] > quantiles[1])].sort_values(by=['death_rate'], ascending = False)\n",
    "df_60.to_csv('data/rural/percentile_60.csv')\n",
    "\n",
    "## 61% - 80%\n",
    "df_80 = df_rural[(df_rural['death_rate'] <= quantiles[3]) & \n",
    "                 (df_rural['death_rate'] > quantiles[2])].sort_values(by=['death_rate'], ascending = False)\n",
    "df_80.to_csv('data/rural/percentile_80.csv')\n",
    "\n",
    "## 81% - 100%\n",
    "df_100 = df_rural[(df_rural['death_rate'] <= quantiles[4]) & \n",
    "                  (df_rural['death_rate'] > quantiles[3])].sort_values(by=['death_rate'], ascending = False)\n",
    "df_100.to_csv('data/rural/percentile_100.csv')"
   ]
  }
 ],
 "metadata": {
  "kernelspec": {
   "display_name": "Python 3",
   "language": "python",
   "name": "python3"
  },
  "language_info": {
   "codemirror_mode": {
    "name": "ipython",
    "version": 3
   },
   "file_extension": ".py",
   "mimetype": "text/x-python",
   "name": "python",
   "nbconvert_exporter": "python",
   "pygments_lexer": "ipython3",
   "version": "3.6.5"
  }
 },
 "nbformat": 4,
 "nbformat_minor": 2
}
