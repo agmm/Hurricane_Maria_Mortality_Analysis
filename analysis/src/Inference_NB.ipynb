{
 "cells": [
  {
   "cell_type": "code",
   "execution_count": 66,
   "metadata": {},
   "outputs": [],
   "source": [
    "import pandas as pd\n",
    "import numpy as np\n",
    "import pymc3 as pm\n",
    "import matplotlib.pyplot as plt"
   ]
  },
  {
   "cell_type": "code",
   "execution_count": 53,
   "metadata": {},
   "outputs": [],
   "source": [
    "census_data = pd.read_csv(\"data/census.csv\")\n",
    "census_data = census_data.drop(['Unnamed: 0'], axis = 1)"
   ]
  },
  {
   "cell_type": "code",
   "execution_count": 54,
   "metadata": {},
   "outputs": [],
   "source": [
    "mortality_data = pd.read_csv(\"data/mortality_grouped.csv\")\n",
    "mortality_data = mortality_data.drop(['Unnamed: 0'], axis = 1)"
   ]
  },
  {
   "cell_type": "code",
   "execution_count": 55,
   "metadata": {
    "scrolled": false
   },
   "outputs": [
    {
     "data": {
      "text/html": [
       "<div>\n",
       "<style scoped>\n",
       "    .dataframe tbody tr th:only-of-type {\n",
       "        vertical-align: middle;\n",
       "    }\n",
       "\n",
       "    .dataframe tbody tr th {\n",
       "        vertical-align: top;\n",
       "    }\n",
       "\n",
       "    .dataframe thead th {\n",
       "        text-align: right;\n",
       "    }\n",
       "</style>\n",
       "<table border=\"1\" class=\"dataframe\">\n",
       "  <thead>\n",
       "    <tr style=\"text-align: right;\">\n",
       "      <th></th>\n",
       "      <th>ResidencePlace</th>\n",
       "      <th>ResidenceZone</th>\n",
       "      <th>Deaths</th>\n",
       "      <th>respop72017</th>\n",
       "      <th>death_rate</th>\n",
       "    </tr>\n",
       "  </thead>\n",
       "  <tbody>\n",
       "    <tr>\n",
       "      <th>0</th>\n",
       "      <td>ADJUNTAS</td>\n",
       "      <td>RURAL</td>\n",
       "      <td>63</td>\n",
       "      <td>17971</td>\n",
       "      <td>3.505648</td>\n",
       "    </tr>\n",
       "    <tr>\n",
       "      <th>1</th>\n",
       "      <td>ADJUNTAS</td>\n",
       "      <td>URBANO</td>\n",
       "      <td>50</td>\n",
       "      <td>17971</td>\n",
       "      <td>2.782260</td>\n",
       "    </tr>\n",
       "    <tr>\n",
       "      <th>2</th>\n",
       "      <td>AGUADA</td>\n",
       "      <td>RURAL</td>\n",
       "      <td>165</td>\n",
       "      <td>38118</td>\n",
       "      <td>4.328664</td>\n",
       "    </tr>\n",
       "    <tr>\n",
       "      <th>3</th>\n",
       "      <td>AGUADA</td>\n",
       "      <td>URBANO</td>\n",
       "      <td>37</td>\n",
       "      <td>38118</td>\n",
       "      <td>0.970670</td>\n",
       "    </tr>\n",
       "    <tr>\n",
       "      <th>4</th>\n",
       "      <td>AGUADILLA</td>\n",
       "      <td>RURAL</td>\n",
       "      <td>320</td>\n",
       "      <td>53164</td>\n",
       "      <td>6.019111</td>\n",
       "    </tr>\n",
       "  </tbody>\n",
       "</table>\n",
       "</div>"
      ],
      "text/plain": [
       "  ResidencePlace ResidenceZone  Deaths  respop72017  death_rate\n",
       "0       ADJUNTAS         RURAL      63        17971    3.505648\n",
       "1       ADJUNTAS        URBANO      50        17971    2.782260\n",
       "2         AGUADA         RURAL     165        38118    4.328664\n",
       "3         AGUADA        URBANO      37        38118    0.970670\n",
       "4      AGUADILLA         RURAL     320        53164    6.019111"
      ]
     },
     "execution_count": 55,
     "metadata": {},
     "output_type": "execute_result"
    }
   ],
   "source": [
    "df = mortality_data.merge(census_data, on='ResidencePlace')\n",
    "df['death_rate'] = (df['Deaths']/df['respop72017']) * 1000\n",
    "df.head()"
   ]
  },
  {
   "cell_type": "code",
   "execution_count": 56,
   "metadata": {},
   "outputs": [],
   "source": [
    " rural = df[df['ResidenceZone'] == 'RURAL']['death_rate']"
   ]
  },
  {
   "cell_type": "code",
   "execution_count": 57,
   "metadata": {},
   "outputs": [],
   "source": [
    " urban = df[df['ResidenceZone'] == 'URBANO']['death_rate']"
   ]
  },
  {
   "cell_type": "code",
   "execution_count": 58,
   "metadata": {},
   "outputs": [],
   "source": [
    "total = pd.DataFrame(dict(death_rate = np.r_[rural, urban],\n",
    "                         group = np.r_[['rural']* len(rural), \n",
    "                                      ['urban'] * len(urban)]))"
   ]
  },
  {
   "cell_type": "code",
   "execution_count": 60,
   "metadata": {},
   "outputs": [],
   "source": [
    "mu_total = total.death_rate.mean()\n",
    "std_total = total.death_rate.std()"
   ]
  },
  {
   "cell_type": "code",
   "execution_count": 103,
   "metadata": {},
   "outputs": [],
   "source": [
    "with pm.Model() as model:\n",
    "    rural_mean = pm.TruncatedNormal('rural_mean', \n",
    "                                    mu = mu_total, \n",
    "                                    sd = std_total, \n",
    "                                    lower = 0, upper = 1000)\n",
    "    urban_mean = pm.TruncatedNormal('urban_mean', \n",
    "                                    mu = mu_total, \n",
    "                                    sd = std_total, \n",
    "                                    lower = 0, upper = 1000)"
   ]
  },
  {
   "cell_type": "code",
   "execution_count": 104,
   "metadata": {},
   "outputs": [],
   "source": [
    "std_low = 0\n",
    "std_high = 10\n",
    "\n",
    "with model:\n",
    "    rural_std = pm.Uniform('rural_std', lower = std_low,\n",
    "                          upper = std_high)\n",
    "    urban_std = pm.Uniform('urban_std', lower = std_low, \n",
    "                          upper = std_high)"
   ]
  },
  {
   "cell_type": "code",
   "execution_count": 105,
   "metadata": {},
   "outputs": [],
   "source": [
    "with model:\n",
    "    v = pm.Gamma('v', alpha = 3, beta = 1)"
   ]
  },
  {
   "cell_type": "code",
   "execution_count": 106,
   "metadata": {},
   "outputs": [],
   "source": [
    "with model:\n",
    "    lambda_rural = rural_std**-2\n",
    "    lambda_urban = urban_std**-2\n",
    "    \n",
    "    rural_try = pm.StudentT('rural', nu = v, mu = rural_mean, \n",
    "                            lam = lambda_rural, observed = rural)\n",
    "    urban_try = pm.StudentT('urban', nu = v, mu = urban_mean, \n",
    "                           lam = lambda_urban, observed = urban)"
   ]
  },
  {
   "cell_type": "code",
   "execution_count": 107,
   "metadata": {},
   "outputs": [],
   "source": [
    "with model:\n",
    "    diff_of_means = pm.Deterministic('difference of means', \n",
    "                                     rural_mean - urban_mean)\n",
    "    \n",
    "    diff_of_stds = pm.Deterministic('difference of stds', \n",
    "                                    rural_std - urban_std)\n",
    "    \n",
    "    effect_size = pm.Deterministic('effect size',\n",
    "                                  diff_of_means / np.sqrt((rural_std**2 + urban_std**2) / 2))"
   ]
  },
  {
   "cell_type": "code",
   "execution_count": 108,
   "metadata": {
    "scrolled": true
   },
   "outputs": [
    {
     "name": "stderr",
     "output_type": "stream",
     "text": [
      "Auto-assigning NUTS sampler...\n",
      "Initializing NUTS using jitter+adapt_diag...\n",
      "Multiprocess sampling (2 chains in 2 jobs)\n",
      "NUTS: [v, urban_std, rural_std, urban_mean, rural_mean]\n",
      "Sampling 2 chains: 100%|██████████| 70000/70000 [01:22<00:00, 845.92draws/s] \n"
     ]
    }
   ],
   "source": [
    "with model:\n",
    "    trace = pm.sample(20000, cores = 2, tune = 15000)"
   ]
  },
  {
   "cell_type": "code",
   "execution_count": 113,
   "metadata": {},
   "outputs": [
    {
     "data": {
      "image/png": "[encoded data removed]",
      "text/plain": [
       "<Figure size 432x288 with 1 Axes>"
      ]
     },
     "metadata": {},
     "output_type": "display_data"
    }
   ],
   "source": [
    "pm.plot_posterior(trace, varnames = ['urban_mean'], color = '#0d98ba')\n",
    "plt.savefig('figs/urban_mean.png')"
   ]
  },
  {
   "cell_type": "code",
   "execution_count": 114,
   "metadata": {},
   "outputs": [
    {
     "data": {
      "image/png": "[encoded data removed]",
      "text/plain": [
       "<Figure size 432x288 with 1 Axes>"
      ]
     },
     "metadata": {},
     "output_type": "display_data"
    }
   ],
   "source": [
    "pm.plot_posterior(trace, varnames = ['urban_std'], color = '#0d98ba')\n",
    "plt.savefig('figs/urban_std.png')"
   ]
  },
  {
   "cell_type": "code",
   "execution_count": 115,
   "metadata": {},
   "outputs": [
    {
     "data": {
      "image/png": "[encoded data removed]",
      "text/plain": [
       "<Figure size 432x288 with 1 Axes>"
      ]
     },
     "metadata": {},
     "output_type": "display_data"
    }
   ],
   "source": [
    "pm.plot_posterior(trace, varnames = ['rural_mean'], color = '#0d98ba')\n",
    "plt.savefig('figs/rural_mean.png')"
   ]
  },
  {
   "cell_type": "code",
   "execution_count": 124,
   "metadata": {},
   "outputs": [
    {
     "data": {
      "image/png": "[encoded data removed]",
      "text/plain": [
       "<Figure size 432x288 with 1 Axes>"
      ]
     },
     "metadata": {},
     "output_type": "display_data"
    }
   ],
   "source": [
    "pm.plot_posterior(trace, varnames = ['rural_std'], color = '#0d98ba')\n",
    "plt.savefig('figs/rural_std.png')"
   ]
  },
  {
   "cell_type": "code",
   "execution_count": 120,
   "metadata": {},
   "outputs": [],
   "source": [
    "pm.summary(trace, varnames = ['urban_mean', \n",
    "                              'urban_std',\n",
    "                              'rural_mean',\n",
    "                              'rural_std']).to_csv('data/inference_summary.csv')"
   ]
  },
  {
   "cell_type": "code",
   "execution_count": 128,
   "metadata": {},
   "outputs": [
    {
     "data": {
      "image/png": "[encoded data removed]",
      "text/plain": [
       "<Figure size 432x288 with 1 Axes>"
      ]
     },
     "metadata": {},
     "output_type": "display_data"
    }
   ],
   "source": [
    "pm.plot_posterior(trace, varnames = ['difference of means'], color = '#0d98ba', ref_val=0)\n",
    "plt.savefig('figs/difference_of_means.png')"
   ]
  },
  {
   "cell_type": "code",
   "execution_count": 129,
   "metadata": {},
   "outputs": [
    {
     "data": {
      "image/png": "[encoded data removed]",
      "text/plain": [
       "<Figure size 432x288 with 2 Axes>"
      ]
     },
     "metadata": {},
     "output_type": "display_data"
    }
   ],
   "source": [
    "pm.forestplot(trace, varnames = ['rural_mean', 'urban_mean'])\n",
    "plt.savefig('figs/forestplot_means.png')"
   ]
  },
  {
   "cell_type": "code",
   "execution_count": null,
   "metadata": {},
   "outputs": [],
   "source": []
  }
 ],
 "metadata": {
  "kernelspec": {
   "display_name": "Python 3",
   "language": "python",
   "name": "python3"
  },
  "language_info": {
   "codemirror_mode": {
    "name": "ipython",
    "version": 3
   },
   "file_extension": ".py",
   "mimetype": "text/x-python",
   "name": "python",
   "nbconvert_exporter": "python",
   "pygments_lexer": "ipython3",
   "version": "3.6.5"
  }
 },
 "nbformat": 4,
 "nbformat_minor": 2
}
